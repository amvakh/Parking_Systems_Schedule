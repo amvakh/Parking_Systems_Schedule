{
 "cells": [
  {
   "cell_type": "code",
   "id": "initial_id",
   "metadata": {
    "collapsed": true,
    "ExecuteTime": {
     "end_time": "2025-04-21T18:12:06.493076Z",
     "start_time": "2025-04-21T18:12:06.487091Z"
    }
   },
   "source": [
    "import graphviz\n",
    "from graphviz import Digraph\n",
    "\n",
    "\n",
    "\n",
    "dfd = Digraph('PKS_DFD_Level1', filename='pks_dfd_level1', format='pdf')\n",
    "\n",
    "# Global graph styling for readability\n",
    "dfd.attr(rankdir='TB')  # Top to bottom\n",
    "dfd.attr(size='14,14')\n",
    "dfd.attr(dpi='600')\n",
    "dfd.graph_attr.update(nodesep='0.8', ranksep='0.8')\n"
   ],
   "outputs": [],
   "execution_count": 72
  },
  {
   "metadata": {
    "ExecuteTime": {
     "end_time": "2025-04-21T18:12:06.516329Z",
     "start_time": "2025-04-21T18:12:06.511412Z"
    }
   },
   "cell_type": "code",
   "source": [
    "# External Entities\n",
    "dfd.node('User', 'User', shape='box')\n",
    "dfd.node('Cloudflare', 'Cloudflare Gateway', shape='box')\n",
    "dfd.node('Stripe', 'Stripe API', shape='box')\n",
    "dfd.node('LPR', 'LPR Camera', shape='box')\n",
    "dfd.node('Admin', 'Admin', shape='box')"
   ],
   "id": "4ecfd26c8f63758f",
   "outputs": [],
   "execution_count": 73
  },
  {
   "metadata": {
    "ExecuteTime": {
     "end_time": "2025-04-21T18:12:06.531348Z",
     "start_time": "2025-04-21T18:12:06.524339Z"
    }
   },
   "cell_type": "code",
   "source": [
    "# Processes\n",
    "dfd.node('P1', '/zones', shape='ellipse')\n",
    "dfd.node('P2', 'Validate Zone ID', shape='ellipse')\n",
    "dfd.node('P3', 'Login Page', shape='ellipse')\n",
    "dfd.node('P3a', 'Validate Credentials', shape='ellipse')\n",
    "dfd.node('P3b', 'Forgot Password Handler', shape='ellipse')\n",
    "dfd.node('P4a', 'Guest Plate Entry', shape='ellipse')\n",
    "dfd.node('P4b', 'Create Account + Plate Entry', shape='ellipse')\n",
    "dfd.node('P4c', 'Review Stored Plate', shape='ellipse')\n",
    "dfd.node('P5', 'Payment Portal', shape='ellipse')\n",
    "dfd.node('P6', 'Plate Authorization (PA)', shape='ellipse')\n",
    "dfd.node('P7', 'Admin Management', shape='ellipse')\n"
   ],
   "id": "a701c16e0b8e0a27",
   "outputs": [],
   "execution_count": 74
  },
  {
   "metadata": {
    "ExecuteTime": {
     "end_time": "2025-04-21T18:12:06.556870Z",
     "start_time": "2025-04-21T18:12:06.550874Z"
    }
   },
   "cell_type": "code",
   "source": [
    "# Data Stores\n",
    "dfd.node('D1', 'Zones DB', shape='cylinder')\n",
    "dfd.node('D2', 'Payment Records DB', shape='cylinder')\n",
    "dfd.node('D3', 'Session DB', shape='cylinder')\n",
    "dfd.node('D4', 'License Plate DB', shape='cylinder')\n",
    "dfd.node('D5', 'User DB', shape='cylinder')"
   ],
   "id": "ac3447d6240a13f2",
   "outputs": [],
   "execution_count": 75
  },
  {
   "metadata": {
    "ExecuteTime": {
     "end_time": "2025-04-21T18:12:06.575831Z",
     "start_time": "2025-04-21T18:12:06.569378Z"
    }
   },
   "cell_type": "code",
   "source": [
    "# Data Flows\n",
    "dfd.edge('User', 'Cloudflare', label='QR/SMS Access')\n",
    "dfd.edge('Cloudflare', 'P1', label='If US IP → /zones')\n",
    "dfd.edge('P1', 'P2', label='Enter Zone ID')\n",
    "dfd.edge('P2', 'D1', label='Lookup Zone')\n",
    "dfd.edge('P2', 'P3', label='If Valid → Login')\n",
    "dfd.edge('P2', 'P1', label='If Invalid → Loop Back')"
   ],
   "id": "d444eeb4d8cf264a",
   "outputs": [],
   "execution_count": 76
  },
  {
   "metadata": {
    "ExecuteTime": {
     "end_time": "2025-04-21T18:12:06.594837Z",
     "start_time": "2025-04-21T18:12:06.589689Z"
    }
   },
   "cell_type": "code",
   "source": [
    "# Login Scenarios\n",
    "dfd.edge('P3', 'P3a', label='Enter Email & Password')\n",
    "dfd.edge('P3a', 'P3', label='If Password Invalid → Retry')\n",
    "dfd.edge('P3a', 'P4c', label='If Login Success → Confirm Plate')\n",
    "dfd.edge('P3', 'P3b', label='Forgot Password')\n",
    "dfd.edge('P3b', 'P4c', label='Password Reset → Confirm Plate')\n",
    "\n",
    "# Guest and Account Creation\n",
    "dfd.edge('P3', 'P4a', label='Checkout as Guest')\n",
    "dfd.edge('P3', 'P4b', label='Create Account')"
   ],
   "id": "d0c59a94f409b1d6",
   "outputs": [],
   "execution_count": 77
  },
  {
   "metadata": {
    "ExecuteTime": {
     "end_time": "2025-04-21T18:12:06.612500Z",
     "start_time": "2025-04-21T18:12:06.606503Z"
    }
   },
   "cell_type": "code",
   "source": [
    "# Plate entry/confirmation flows\n",
    "dfd.edge('P4a', 'D4', label='Save Plate')\n",
    "dfd.edge('P4b', 'D4', label='Save Plate + User')\n",
    "dfd.edge('P4c', 'D4', label='Validate Stored Plate')"
   ],
   "id": "aa2c03d1d5a3365f",
   "outputs": [],
   "execution_count": 78
  },
  {
   "metadata": {
    "ExecuteTime": {
     "end_time": "2025-04-21T18:12:06.628987Z",
     "start_time": "2025-04-21T18:12:06.624626Z"
    }
   },
   "cell_type": "code",
   "source": [
    "# Common path to payment\n",
    "dfd.edge('P4a', 'P5')\n",
    "dfd.edge('P4b', 'P5')\n",
    "dfd.edge('P4c', 'P5')"
   ],
   "id": "f6384627ab900b69",
   "outputs": [],
   "execution_count": 79
  },
  {
   "metadata": {
    "ExecuteTime": {
     "end_time": "2025-04-21T18:12:06.648362Z",
     "start_time": "2025-04-21T18:12:06.643475Z"
    }
   },
   "cell_type": "code",
   "source": [
    "# Payment Processing\n",
    "dfd.edge('P5', 'Stripe', label='Send Payment')\n",
    "dfd.edge('Stripe', 'P5', label='Confirmation')\n",
    "dfd.edge('P5', 'D2', label='Record Payment')\n",
    "dfd.edge('P5', 'D3', label='Create Session')\n",
    "dfd.edge('P5', 'D4', label='Link Plate to Payment')"
   ],
   "id": "e9e30d80ab0440da",
   "outputs": [],
   "execution_count": 80
  },
  {
   "metadata": {
    "ExecuteTime": {
     "end_time": "2025-04-21T18:12:06.667156Z",
     "start_time": "2025-04-21T18:12:06.662637Z"
    }
   },
   "cell_type": "code",
   "source": [
    "# LPR Validation\n",
    "dfd.edge('LPR', 'P6', label='Captured Plate')\n",
    "dfd.edge('P6', 'D3', label='Session Lookup')\n",
    "dfd.edge('P6', 'D4', label='Plate Match')\n",
    "dfd.edge('P6', 'User', label='Valid / Invalid Status')"
   ],
   "id": "839607ca2a3fc4d8",
   "outputs": [],
   "execution_count": 81
  },
  {
   "metadata": {
    "ExecuteTime": {
     "end_time": "2025-04-21T18:12:06.684716Z",
     "start_time": "2025-04-21T18:12:06.679576Z"
    }
   },
   "cell_type": "code",
   "source": [
    "# Admin\n",
    "dfd.edge('Admin', 'P7')\n",
    "dfd.edge('P7', 'D1', label='Manage Zones')\n",
    "dfd.edge('P7', 'D2', label='Override Payments')\n",
    "dfd.edge('P7', 'D4', label='Manage Plates')\n",
    "dfd.edge('P7', 'D5', label='Manage Users')"
   ],
   "id": "600ef5d29f7a73f1",
   "outputs": [],
   "execution_count": 82
  },
  {
   "metadata": {
    "ExecuteTime": {
     "end_time": "2025-04-21T18:12:07.333123Z",
     "start_time": "2025-04-21T18:12:06.699622Z"
    }
   },
   "cell_type": "code",
   "source": [
    "# Output\n",
    "dfd.render(format='pdf', view=True)\n"
   ],
   "id": "bfdae247555698b6",
   "outputs": [
    {
     "data": {
      "text/plain": [
       "'pks_dfd_level1.pdf'"
      ]
     },
     "execution_count": 83,
     "metadata": {},
     "output_type": "execute_result"
    }
   ],
   "execution_count": 83
  }
 ],
 "metadata": {
  "kernelspec": {
   "display_name": "Python 3",
   "language": "python",
   "name": "python3"
  },
  "language_info": {
   "codemirror_mode": {
    "name": "ipython",
    "version": 2
   },
   "file_extension": ".py",
   "mimetype": "text/x-python",
   "name": "python",
   "nbconvert_exporter": "python",
   "pygments_lexer": "ipython2",
   "version": "2.7.6"
  }
 },
 "nbformat": 4,
 "nbformat_minor": 5
}
